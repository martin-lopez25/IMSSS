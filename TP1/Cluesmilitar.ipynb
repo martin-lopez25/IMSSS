{
  "nbformat": 4,
  "nbformat_minor": 0,
  "metadata": {
    "colab": {
      "provenance": [],
      "authorship_tag": "ABX9TyOdX7jtEGwDshbjILJ9j0+O",
      "include_colab_link": true
    },
    "kernelspec": {
      "name": "python3",
      "display_name": "Python 3"
    },
    "language_info": {
      "name": "python"
    }
  },
  "cells": [
    {
      "cell_type": "markdown",
      "metadata": {
        "id": "view-in-github",
        "colab_type": "text"
      },
      "source": [
        "<a href=\"https://colab.research.google.com/github/martin-lopez25/IMSSS/blob/main/TP1/Cluesmilitar.ipynb\" target=\"_parent\"><img src=\"https://colab.research.google.com/assets/colab-badge.svg\" alt=\"Open In Colab\"/></a>"
      ]
    },
    {
      "cell_type": "code",
      "execution_count": 6,
      "metadata": {
        "id": "iGYTZUAMTGpD"
      },
      "outputs": [],
      "source": [
        "from google.colab import files\n",
        "import io\n",
        "import pandas as pd\n",
        "from openpyxl import Workbook\n",
        "from openpyxl.drawing.image import Image\n",
        "import base64\n",
        "import zipfile\n",
        "import os"
      ]
    },
    {
      "cell_type": "code",
      "source": [
        "hosp_militar=pd.read_excel('/content/ESTABLECIMIENTO_SALUD_202504.xlsx')"
      ],
      "metadata": {
        "id": "vz1LRRgXThVP"
      },
      "execution_count": 7,
      "outputs": []
    },
    {
      "cell_type": "code",
      "source": [
        "hosp_militar.columns.tolist()\n"
      ],
      "metadata": {
        "colab": {
          "base_uri": "https://localhost:8080/"
        },
        "id": "zEoqbr6TYj9d",
        "outputId": "1e50d7c5-af8c-4aab-bd80-51825caf028f"
      },
      "execution_count": 11,
      "outputs": [
        {
          "output_type": "execute_result",
          "data": {
            "text/plain": [
              "['CLUES',\n",
              " 'CLAVE DE LA INSTITUCION',\n",
              " 'NOMBRE DE LA INSTITUCION',\n",
              " 'CLAVE DE LA ENTIDAD',\n",
              " 'ENTIDAD',\n",
              " 'CLAVE DEL MUNICIPIO',\n",
              " 'MUNICIPIO',\n",
              " 'CLAVE DE LA LOCALIDAD',\n",
              " 'LOCALIDAD',\n",
              " 'CLAVE DE LA JURISDICCION',\n",
              " 'JURISDICCION',\n",
              " 'CLAVE DEL TIPO ESTABLECIMIENTO',\n",
              " 'NOMBRE TIPO ESTABLECIMIENTO',\n",
              " 'CLAVE DE TIPOLOGIA',\n",
              " 'NOMBRE DE TIPOLOGIA',\n",
              " 'CLAVE DE SUBTIPOLOGIA',\n",
              " 'NOMBRE DE SUBTIPOLOGIA',\n",
              " 'NOMBRE DE LA UNIDAD',\n",
              " 'NOMBRE COMERCIAL',\n",
              " 'CLAVE TIPO DE VIALIDAD',\n",
              " 'TIPO DE VIALIDAD',\n",
              " 'VIALIDAD',\n",
              " 'NUMERO EXTERIOR',\n",
              " 'NUMERO INTERIOR',\n",
              " 'CLAVE TIPO DE ASENTAMIENTO',\n",
              " 'TIPO DE ASENTAMIENTO',\n",
              " 'ASENTAMIENTO',\n",
              " 'CODIGO POSTAL',\n",
              " 'OBSERVACIONES DE LA DIRECCION',\n",
              " 'CLAVE ESTATUS DE OPERACION',\n",
              " 'ESTATUS DE OPERACION',\n",
              " 'RFC DEL ESTABLECIMIENTO',\n",
              " 'TELEFONO 1 DEL ESTABLECIMIENTO',\n",
              " 'EXTENSION TELEFONICA 1 DEL ESTABLECIMIENTO',\n",
              " 'TELEFONO 2 DEL ESTABLECIMIENTO',\n",
              " 'EXTENSION TELEFONICA 2 DEL ESTABLECIMIENTO',\n",
              " 'FECHA DE CONSTRUCCION',\n",
              " 'FECHA DE INICIO DE OPERACION',\n",
              " 'CLAVE UNIDAD MOVIL MARCA',\n",
              " 'UNIDAD MOVIL MARCA',\n",
              " 'UNIDAD MOVIL MARCA ESPECIFICA',\n",
              " 'UNIDAD MOVIL MODELO',\n",
              " 'CLAVE UNIDAD MOVIL PROGRAMA',\n",
              " 'UNIDAD MOVIL PROGRAMA',\n",
              " 'CLAVE UNIDAD MOVIL TIPO',\n",
              " 'UNIDAD MOVIL TIPO',\n",
              " 'CLAVE UNIDAD MOVIL TIPOLOGIA',\n",
              " 'UNIDAD MOVIL TIPOLOGIA',\n",
              " 'CLAVE DE LA INS ADM',\n",
              " 'NOMBRE DE LA INS ADM',\n",
              " 'CLAVE NIVEL ATENCION',\n",
              " 'NIVEL ATENCION',\n",
              " 'CLAVE ESTRATO UNIDAD',\n",
              " 'ESTRATO UNIDAD',\n",
              " 'CLAVE TIPO OBRA',\n",
              " 'TIPO OBRA',\n",
              " 'CLAVE PROPIEDAD DEL INMUEBLE',\n",
              " 'PROPIEDAD DEL INMUEBLE',\n",
              " 'LATITUD',\n",
              " 'LONGITUD',\n",
              " 'CLAVE ULTIMO MOVIMIENTO',\n",
              " 'ULTIMO MOVIMIENTO',\n",
              " 'FECHA ULTIMO MOVIMIENTO',\n",
              " 'COMENTARIOS DE LA VALIDACION',\n",
              " 'CLAVE MOTIVO BAJA',\n",
              " 'MOTIVO BAJA',\n",
              " 'FECHA EFECTIVA DE BAJA']"
            ]
          },
          "metadata": {},
          "execution_count": 11
        }
      ]
    },
    {
      "cell_type": "code",
      "source": [
        "# 2. Lista de nombres de hospitales a buscar (puedes modificarla)\n",
        "nombres_buscar = [\n",
        "    \"CENTRO MÉDICO NAVAL\",\n",
        "    \"HOSPITAL NAVAL DE ESPECIALIDADES DE VERACRUZ\",\n",
        "    \"HOSPITAL NAVAL DE MANZANILLO\",\n",
        "    \"HOSPITAL NAVAL DE ACAPULCO\",\n",
        "    \"HOSPITAL NAVAL DE TAMPICO\",\n",
        "    \"HOSPITAL NAVAL DE SALINA CRUZ\",\n",
        "    \"HOSPITAL NAVAL DE YUKALPETEN\",\n",
        "    \"HOSPITAL NAVAL DE COATZACOALCOS\",\n",
        "    \"HOSPITAL NAVAL DE ENSENADA\",\n",
        "    \"HOSPITAL NAVAL DE GUAYMAS\",\n",
        "    \"HOSPITAL NAVAL DE LÁZARO CÁRDENAS\",\n",
        "    \"HOSPITAL NAVAL DE CHIAPAS\",\n",
        "    \"HOSPITAL NAVAL DE TUXPAN\",\n",
        "    \"HOSPITAL NAVAL DE CHETUMAL\",\n",
        "    \"HOSPITAL NAVAL DE CAMPECHE\",\n",
        "    \"HOSPITAL NAVAL DE PUERTO VALLARTA\",\n",
        "    \"HOSPITAL NAVAL DE CD. DEL CÁRMEN\",\n",
        "    \"HOSPITAL NAVAL DE ANTON LIZARDO\",\n",
        "    \"HOSPITAL NAVAL DE HUATULCO\",\n",
        "    \"HOSPITAL NAVAL DE IXTAPA ZIHUATANEJO\",\n",
        "    \"HOSPITAL NAVAL DE TOPOLOBAMPO\",\n",
        "    \"HOSPITAL NAVAL DE MATAMOROS\",\n",
        "    \"HOSPITAL NAVAL DE ISLA MUJERES\",\n",
        "    \"HOSPITAL NAVAL DE LA PESCA\",\n",
        "    \"HOSPITAL NAVAL DE FRONTERA\"\n",
        "    \"HOSPITAL NAVAL DE SANTA ROSALIA\",\n",
        "    \"HOSPITAL NAVAL DE LA PAZ\",\n",
        "    \"CLINICA NAVAL DE SAN FELIPE\",\n",
        "    \"CLINICA NAVAL DE SAN BLAS\",\n",
        "    \"CLINICA NAVAL DE TAPACHULA\",\n",
        "    \"CLINICA NAVAL DE CHAMPOTON\",\n",
        "    \"CLINICA NAVAL DEL SUR\",\n",
        "    \"CLINICA NAVAL DE CUEMANCO\",\n",
        "    \"CLINICA NAVAL DE LOS CABOS\",\n",
        "    \"CLINICA NAVAL DE COZUMEL\",\n",
        "    \"CLINICA NAVAL DE PUERTO PEÑASCO\",\n",
        "    \"CLINICA NAVAL DE DONATO GUERRA\",\n",
        "    \"CLINICA NAVAL DE BOCA DE CHILA\",\n",
        "    # Agrega aquí más nombres que necesites buscar\n",
        "]\n",
        "\n",
        "# 3. Función para buscar coincidencias parciales\n",
        "def buscar_hospitales(df, nombres):\n",
        "    resultados = pd.DataFrame()\n",
        "    encontrados = set()\n",
        "    for nombre in nombres:\n",
        "        # Busca coincidencias parciales (ignorando mayúsculas/minúsculas)\n",
        "        mask = df['NOMBRE DE LA UNIDAD'].str.contains(nombre, case=False, na=False)\n",
        "        temp_df = df[mask][['NOMBRE DE LA UNIDAD', 'CLUES','LATITUD','LONGITUD']].copy()\n",
        "        temp_df['Término de búsqueda'] = nombre\n",
        "        resultados = pd.concat([resultados, temp_df])\n",
        "\n",
        "        # Registrar si se encontró al menos una coincidencia\n",
        "        if not temp_df.empty:\n",
        "            encontrados.add(nombre)\n",
        "\n",
        "    # Identificar los no encontrados\n",
        "    no_encontrados = set(nombres) - encontrados\n",
        "\n",
        "    return resultados.drop_duplicates(), no_encontrados\n",
        "\n",
        "# 4. Realizar la búsqueda\n",
        "resultados, no_encontrados = buscar_hospitales(hosp_militar, nombres_buscar)\n",
        "\n",
        "# 5. Mostrar resultados\n",
        "print(\"\\nResultados encontrados:\")\n",
        "print(resultados)\n",
        "\n",
        "print(\"\\nHospitales no encontrados:\")\n",
        "for hospital in sorted(no_encontrados):\n",
        "    print(f\"- {hospital}\")\n",
        "\n",
        "# 6. Crear archivo Excel con los resultados\n",
        "output_filename = \"resultados_clues.xlsx\"\n",
        "with pd.ExcelWriter(output_filename) as writer:\n",
        "    resultados.to_excel(writer, sheet_name='Resultados', index=False)\n",
        "\n",
        "    # Crear hoja con los no encontrados\n",
        "    pd.DataFrame({\"Hospitales no encontrados\": sorted(no_encontrados)}).to_excel(\n",
        "        writer, sheet_name='No encontrados', index=False)\n",
        "\n",
        "\n",
        "\n",
        "# 7. Descargar el archivo\n",
        "files.download(output_filename)\n",
        "\n",
        "print(f\"\\nArchivo '{output_filename}' generado con éxito!\")"
      ],
      "metadata": {
        "colab": {
          "base_uri": "https://localhost:8080/",
          "height": 1000
        },
        "id": "Xe5WHjY_ehbL",
        "outputId": "c097ece8-bbb1-46d5-ab11-bb455eb730b7"
      },
      "execution_count": 18,
      "outputs": [
        {
          "output_type": "stream",
          "name": "stdout",
          "text": [
            "\n",
            "Resultados encontrados:\n",
            "                                NOMBRE DE LA UNIDAD        CLUES    LATITUD  \\\n",
            "9915                            CENTRO MÉDICO NAVAL  DFSMA000010  19.354684   \n",
            "54510  HOSPITAL NAVAL DE ESPECIALIDADES DE VERACRUZ  VZSMA000040  19.200424   \n",
            "5550                   HOSPITAL NAVAL DE MANZANILLO  CMSMA000012  19.067120   \n",
            "15275                    HOSPITAL NAVAL DE ACAPULCO  GRSMA000015  16.835313   \n",
            "51434                     HOSPITAL NAVAL DE TAMPICO  TSSMA000032  22.257946   \n",
            "36342                 HOSPITAL NAVAL DE SALINA CRUZ  OCSMA000015  16.175973   \n",
            "54512               HOSPITAL NAVAL DE COATZACOALCOS  VZSMA000064  18.140426   \n",
            "641                      HOSPITAL NAVAL DE ENSENADA  BCSMA000013  31.833644   \n",
            "46940                     HOSPITAL NAVAL DE GUAYMAS  SRSMA000012  27.883671   \n",
            "7282                      HOSPITAL NAVAL DE CHIAPAS  CSSMA000014  14.695600   \n",
            "54509                      HOSPITAL NAVAL DE TUXPAN  VZSMA000035  20.947758   \n",
            "41955                    HOSPITAL NAVAL DE CHETUMAL  QRSMA000033  18.516591   \n",
            "2481                     HOSPITAL NAVAL DE CAMPECHE  CCSMA000011  19.829958   \n",
            "2484                     HOSPITAL NAVAL DE CAMPECHE  CCSMA000040  19.842910   \n",
            "20992             HOSPITAL NAVAL DE PUERTO VALLARTA  JCSMA000011  20.683422   \n",
            "36344                    HOSPITAL NAVAL DE HUATULCO  OCSMA000032  15.833010   \n",
            "15276          HOSPITAL NAVAL DE IXTAPA ZIHUATANEJO  GRSMA000020  17.661950   \n",
            "44169                 HOSPITAL NAVAL DE TOPOLOBAMPO  SLSMA000010  25.589650   \n",
            "51432                   HOSPITAL NAVAL DE MATAMOROS  TSSMA000015  25.743470   \n",
            "41954                HOSPITAL NAVAL DE ISLA MUJERES  QRSMA000021  21.236046   \n",
            "51433                    HOSPITAL NAVAL DE LA PESCA  TSSMA000020  23.785470   \n",
            "1886                       HOSPITAL NAVAL DE LA PAZ  BSSMA000033  24.151100   \n",
            "1889                       HOSPITAL NAVAL DE LA PAZ  BSSMA000062  24.144005   \n",
            "642                     CLINICA NAVAL DE SAN FELIPE  BCSMA000025  31.019715   \n",
            "34065                     CLINICA NAVAL DE SAN BLAS  NTSMA000011  21.530971   \n",
            "2483                     CLINICA NAVAL DE CHAMPOTON  CCSMA000035  19.350433   \n",
            "1888                     CLINICA NAVAL DE LOS CABOS  BSSMA000050  22.878607   \n",
            "41953                      CLINICA NAVAL DE COZUMEL  QRSMA000016  20.484548   \n",
            "46941               CLINICA NAVAL DE PUERTO PEÑASCO  SRSMA000024  31.317809   \n",
            "\n",
            "         LONGITUD                           Término de búsqueda  \n",
            "9915   -99.199853                           CENTRO MÉDICO NAVAL  \n",
            "54510  -96.131561  HOSPITAL NAVAL DE ESPECIALIDADES DE VERACRUZ  \n",
            "5550  -104.298616                  HOSPITAL NAVAL DE MANZANILLO  \n",
            "15275  -99.851376                    HOSPITAL NAVAL DE ACAPULCO  \n",
            "51434  -97.873986                     HOSPITAL NAVAL DE TAMPICO  \n",
            "36342  -95.198726                 HOSPITAL NAVAL DE SALINA CRUZ  \n",
            "54512  -94.522870               HOSPITAL NAVAL DE COATZACOALCOS  \n",
            "641   -116.605719                    HOSPITAL NAVAL DE ENSENADA  \n",
            "46940 -110.911145                     HOSPITAL NAVAL DE GUAYMAS  \n",
            "7282   -92.398750                     HOSPITAL NAVAL DE CHIAPAS  \n",
            "54509  -97.393384                      HOSPITAL NAVAL DE TUXPAN  \n",
            "41955  -88.308791                    HOSPITAL NAVAL DE CHETUMAL  \n",
            "2481   -90.555974                    HOSPITAL NAVAL DE CAMPECHE  \n",
            "2484   -90.493250                    HOSPITAL NAVAL DE CAMPECHE  \n",
            "20992 -105.240913             HOSPITAL NAVAL DE PUERTO VALLARTA  \n",
            "36344  -96.320220                    HOSPITAL NAVAL DE HUATULCO  \n",
            "15276 -101.598830          HOSPITAL NAVAL DE IXTAPA ZIHUATANEJO  \n",
            "44169 -109.060770                 HOSPITAL NAVAL DE TOPOLOBAMPO  \n",
            "51432  -97.556120                   HOSPITAL NAVAL DE MATAMOROS  \n",
            "41954  -86.735548                HOSPITAL NAVAL DE ISLA MUJERES  \n",
            "51433  -97.835310                    HOSPITAL NAVAL DE LA PESCA  \n",
            "1886  -110.330000                      HOSPITAL NAVAL DE LA PAZ  \n",
            "1889  -110.342993                      HOSPITAL NAVAL DE LA PAZ  \n",
            "642   -114.850977                   CLINICA NAVAL DE SAN FELIPE  \n",
            "34065 -105.284795                     CLINICA NAVAL DE SAN BLAS  \n",
            "2483   -90.723681                    CLINICA NAVAL DE CHAMPOTON  \n",
            "1888  -109.906486                    CLINICA NAVAL DE LOS CABOS  \n",
            "41953  -86.956708                      CLINICA NAVAL DE COZUMEL  \n",
            "46941 -113.542922               CLINICA NAVAL DE PUERTO PEÑASCO  \n",
            "\n",
            "Hospitales no encontrados:\n",
            "- CLINICA NAVAL DE BOCA DE CHILA\n",
            "- CLINICA NAVAL DE CUEMANCO\n",
            "- CLINICA NAVAL DE DONATO GUERRA\n",
            "- CLINICA NAVAL DE TAPACHULA\n",
            "- CLINICA NAVAL DEL SUR\n",
            "- HOSPITAL NAVAL DE ANTON LIZARDO\n",
            "- HOSPITAL NAVAL DE CD. DEL CÁRMEN\n",
            "- HOSPITAL NAVAL DE FRONTERAHOSPITAL NAVAL DE SANTA ROSALIA\n",
            "- HOSPITAL NAVAL DE LÁZARO CÁRDENAS\n",
            "- HOSPITAL NAVAL DE YUKALPETEN\n"
          ]
        },
        {
          "output_type": "display_data",
          "data": {
            "text/plain": [
              "<IPython.core.display.Javascript object>"
            ],
            "application/javascript": [
              "\n",
              "    async function download(id, filename, size) {\n",
              "      if (!google.colab.kernel.accessAllowed) {\n",
              "        return;\n",
              "      }\n",
              "      const div = document.createElement('div');\n",
              "      const label = document.createElement('label');\n",
              "      label.textContent = `Downloading \"${filename}\": `;\n",
              "      div.appendChild(label);\n",
              "      const progress = document.createElement('progress');\n",
              "      progress.max = size;\n",
              "      div.appendChild(progress);\n",
              "      document.body.appendChild(div);\n",
              "\n",
              "      const buffers = [];\n",
              "      let downloaded = 0;\n",
              "\n",
              "      const channel = await google.colab.kernel.comms.open(id);\n",
              "      // Send a message to notify the kernel that we're ready.\n",
              "      channel.send({})\n",
              "\n",
              "      for await (const message of channel.messages) {\n",
              "        // Send a message to notify the kernel that we're ready.\n",
              "        channel.send({})\n",
              "        if (message.buffers) {\n",
              "          for (const buffer of message.buffers) {\n",
              "            buffers.push(buffer);\n",
              "            downloaded += buffer.byteLength;\n",
              "            progress.value = downloaded;\n",
              "          }\n",
              "        }\n",
              "      }\n",
              "      const blob = new Blob(buffers, {type: 'application/binary'});\n",
              "      const a = document.createElement('a');\n",
              "      a.href = window.URL.createObjectURL(blob);\n",
              "      a.download = filename;\n",
              "      div.appendChild(a);\n",
              "      a.click();\n",
              "      div.remove();\n",
              "    }\n",
              "  "
            ]
          },
          "metadata": {}
        },
        {
          "output_type": "display_data",
          "data": {
            "text/plain": [
              "<IPython.core.display.Javascript object>"
            ],
            "application/javascript": [
              "download(\"download_727e7b3e-1269-400a-9b5d-9858f5e35c19\", \"resultados_clues.xlsx\", 7172)"
            ]
          },
          "metadata": {}
        },
        {
          "output_type": "stream",
          "name": "stdout",
          "text": [
            "\n",
            "Archivo 'resultados_clues.xlsx' generado con éxito!\n"
          ]
        }
      ]
    }
  ]
}